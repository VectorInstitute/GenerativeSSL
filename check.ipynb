{
 "cells": [
  {
   "cell_type": "code",
   "execution_count": 2,
   "metadata": {},
   "outputs": [
    {
     "data": {
      "text/plain": [
       "['/projects/imagenet_synthetic/arashaf_stablediff_batched/train/file1_2.JPEG',\n",
       " '/projects/imagenet_synthetic/arashaf_stablediff_batched/train/file2_2.JPEG',\n",
       " '/projects/imagenet_synthetic/arashaf_stablediff_batched/train/file3_2.JPEG']"
      ]
     },
     "execution_count": 2,
     "metadata": {},
     "output_type": "execute_result"
    }
   ],
   "source": [
    "import os\n",
    "\n",
    "# List of original file paths\n",
    "file_paths = [\n",
    "    \"/datasets/imagenet/train/folder1/file1.JPEG\",\n",
    "    \"/datasets/imagenet/train/folder2/file2.JPEG\",\n",
    "    \"/datasets/imagenet/train/folder3/file3.JPEG\"\n",
    "]\n",
    "\n",
    "# Function to convert file path\n",
    "def convert_file_path(file_path, index=2):\n",
    "    parts = file_path.split('/')\n",
    "    parts[1] = 'projects'\n",
    "    parts[2] = 'imagenet_synthetic'\n",
    "    parts[3] = 'arashaf_stablediff_batched'\n",
    "    parts[4] = 'train'\n",
    "    parts[-1] = f\"{parts[-1].split('.')[0]}_{str(index)}.JPEG\"\n",
    "    return '/'.join(parts)\n",
    "\n",
    "\n",
    "# List of converted file paths\n",
    "converted_file_paths = [convert_file_path(fp) for fp in file_paths]\n",
    "converted_file_paths\n",
    "\n"
   ]
  },
  {
   "cell_type": "code",
   "execution_count": 3,
   "metadata": {},
   "outputs": [
    {
     "name": "stdout",
     "output_type": "stream",
     "text": [
      "['/projects/imagenet_synthetic/arashaf_stablediff_batched/train/folder1/file1_0.JPEG', '/projects/imagenet_synthetic/arashaf_stablediff_batched/train/folder2/file2_0.JPEG', '/projects/imagenet_synthetic/arashaf_stablediff_batched/train/folder3/file3_0.JPEG']\n"
     ]
    }
   ],
   "source": [
    "file_paths = [\n",
    "    \"/datasets/imagenet/train/folder1/file1.JPEG\",\n",
    "    \"/datasets/imagenet/train/folder2/file2.JPEG\",\n",
    "    \"/datasets/imagenet/train/folder3/file3.JPEG\"\n",
    "]\n",
    "\n",
    "def get_synthetic_image_path(filename, imagenet_synthetic_root, split=\"train\"):\n",
    "    rand_int = 0\n",
    "    filename_and_extension = filename.split(\"/\")[-1]\n",
    "    filename_parent_dir = filename.split(\"/\")[-2]\n",
    "    image_path = os.path.join(\n",
    "        imagenet_synthetic_root,\n",
    "        split,\n",
    "        filename_parent_dir,\n",
    "        filename_and_extension.split(\".\")[0] + f\"_{rand_int}.JPEG\",\n",
    "    )\n",
    "    return image_path\n",
    "\n",
    "synth_dir = \"/projects/imagenet_synthetic/arashaf_stablediff_batched\"\n",
    "converted_file_paths = [get_synthetic_image_path(fp,synth_dir) for fp in file_paths]\n",
    "\n",
    "print(converted_file_paths)\n"
   ]
  }
 ],
 "metadata": {
  "kernelspec": {
   "display_name": "Python 3",
   "language": "python",
   "name": "python3"
  },
  "language_info": {
   "codemirror_mode": {
    "name": "ipython",
    "version": 3
   },
   "file_extension": ".py",
   "mimetype": "text/x-python",
   "name": "python",
   "nbconvert_exporter": "python",
   "pygments_lexer": "ipython3",
   "version": "3.11.5"
  }
 },
 "nbformat": 4,
 "nbformat_minor": 2
}
